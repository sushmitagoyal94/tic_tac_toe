{
 "cells": [
  {
   "cell_type": "code",
   "execution_count": 7,
   "id": "deb61ad2",
   "metadata": {},
   "outputs": [],
   "source": [
    "def board_user(board):\n",
    "    print(board[0],\"|\",board[1],\"|\",board[2])\n",
    "    print(board[3],\"|\",board[4],\"|\",board[5])\n",
    "    print(board[6],\"|\",board[7],\"|\",board[8])"
   ]
  },
  {
   "cell_type": "code",
   "execution_count": 8,
   "id": "7cbd4ba0",
   "metadata": {},
   "outputs": [],
   "source": [
    "def player_choice():\n",
    "    \n",
    "    player1choice = 'wrong'\n",
    "    player2choice = 'wrong'\n",
    "    \n",
    "    while player1choice not in ['X','0']:\n",
    "        player1choice = input(\"Player 1: Choose from X or 0:  \")\n",
    "        \n",
    "        if player1choice not in ['X','0']:\n",
    "            print('Sorry, you have entered wrong value. Choose from X or 0')\n",
    "            \n",
    "    if player1choice == '0':\n",
    "        player2choice = 'X'\n",
    "    else:\n",
    "        player2choice = '0'\n",
    "    return player1choice,player2choice"
   ]
  },
  {
   "cell_type": "code",
   "execution_count": 9,
   "id": "4e6c8b46",
   "metadata": {},
   "outputs": [],
   "source": [
    "def player_position(playerchoice,board,playername):\n",
    "    player = 'wrong'\n",
    "    while player not in range(1,10):\n",
    "        player = int(input(\"{}: Choose a position from 1 to 9. Board starts from left top corner.\".format(playername)))\n",
    "        \n",
    "        if player not in range(1,10):\n",
    "            print('Sorry, you have entered wrong value. Choose from 1 to 9.')\n",
    "        \n",
    "        elif board[player-1] != \" \":\n",
    "            print('Sorry, the position is already taken.')\n",
    "            player = 'wrong'\n",
    "        \n",
    "    board[player-1] = playerchoice\n",
    "    \n",
    "    board_user(board)\n",
    "    return board"
   ]
  },
  {
   "cell_type": "code",
   "execution_count": 10,
   "id": "aa91bdaa",
   "metadata": {},
   "outputs": [],
   "source": [
    "def checkwinning(board,pc,playername):\n",
    "    if(board[0]==pc and board[1]==pc and board[2]==pc) or (board[3]==pc and board[4]==pc and board[5]==pc) or (board[6]==pc and board[7]==pc and board[8]==pc) or (board[0]==pc and board[3]==pc and board[6]==pc) or (board[1]==pc and board[4]==pc and board[7]==pc) or (board[2]==pc and board[5]==pc and board[8]==pc) or (board[0]==pc and board[4]==pc and board[8]==pc) or (board[2]==pc and board[4]==pc and board[6]==pc):\n",
    "        print(\"{} wins\".format(playername))\n",
    "        return True\n",
    "    return False"
   ]
  },
  {
   "cell_type": "code",
   "execution_count": 11,
   "id": "ce071f65",
   "metadata": {},
   "outputs": [],
   "source": [
    "def startgame():\n",
    "    board = [\"1\",\"2\",\"3\",\"4\",\"5\",\"6\",\"7\",\"8\",\"9\"]\n",
    "    print(\"Game start.\")\n",
    "    print(\"This is how board looks like.\")\n",
    "    board_user(board)\n",
    "\n",
    "    board = [\" \",\" \",\" \",\" \",\" \",\" \",\" \",\" \",\" \"]\n",
    "    \n",
    "    p1c,p2c = player_choice()\n",
    "    \n",
    "    for i in range(9):\n",
    "                \n",
    "        if i%2 == 0:\n",
    "            board = player_position(p1c,board,\"Player 1\")\n",
    "            if checkwinning(board,p1c,\"Player 1\"):\n",
    "                break\n",
    "        else:\n",
    "            board = player_position(p2c,board,\"Player 2\")\n",
    "            if checkwinning(board,p2c,\"Player 2\"):\n",
    "                break\n",
    "        if i == 8:\n",
    "            print(\"Tie between Player 1 and Player 2. Game Over.\")"
   ]
  },
  {
   "cell_type": "code",
   "execution_count": 12,
   "id": "9c218076",
   "metadata": {},
   "outputs": [
    {
     "name": "stdout",
     "output_type": "stream",
     "text": [
      "Game start.\n",
      "This is how board looks like.\n",
      "1 | 2 | 3\n",
      "4 | 5 | 6\n",
      "7 | 8 | 9\n",
      "Player 1: Choose from X or 0:  X\n",
      "Player 1: Choose a position from 1 to 9. Board starts from left top corner.10\n",
      "Sorry, you have entered wrong value. Choose from 1 to 9.\n"
     ]
    },
    {
     "ename": "IndexError",
     "evalue": "list index out of range",
     "output_type": "error",
     "traceback": [
      "\u001b[1;31m---------------------------------------------------------------------------\u001b[0m",
      "\u001b[1;31mIndexError\u001b[0m                                Traceback (most recent call last)",
      "Cell \u001b[1;32mIn[12], line 1\u001b[0m\n\u001b[1;32m----> 1\u001b[0m \u001b[43mstartgame\u001b[49m\u001b[43m(\u001b[49m\u001b[43m)\u001b[49m\n",
      "Cell \u001b[1;32mIn[11], line 14\u001b[0m, in \u001b[0;36mstartgame\u001b[1;34m()\u001b[0m\n\u001b[0;32m     11\u001b[0m \u001b[38;5;28;01mfor\u001b[39;00m i \u001b[38;5;129;01min\u001b[39;00m \u001b[38;5;28mrange\u001b[39m(\u001b[38;5;241m9\u001b[39m):\n\u001b[0;32m     13\u001b[0m     \u001b[38;5;28;01mif\u001b[39;00m i\u001b[38;5;241m%\u001b[39m\u001b[38;5;241m2\u001b[39m \u001b[38;5;241m==\u001b[39m \u001b[38;5;241m0\u001b[39m:\n\u001b[1;32m---> 14\u001b[0m         board \u001b[38;5;241m=\u001b[39m \u001b[43mplayer_position\u001b[49m\u001b[43m(\u001b[49m\u001b[43mp1c\u001b[49m\u001b[43m,\u001b[49m\u001b[43mboard\u001b[49m\u001b[43m,\u001b[49m\u001b[38;5;124;43m\"\u001b[39;49m\u001b[38;5;124;43mPlayer 1\u001b[39;49m\u001b[38;5;124;43m\"\u001b[39;49m\u001b[43m)\u001b[49m\n\u001b[0;32m     15\u001b[0m         \u001b[38;5;28;01mif\u001b[39;00m checkwinning(board,p1c,\u001b[38;5;124m\"\u001b[39m\u001b[38;5;124mPlayer 1\u001b[39m\u001b[38;5;124m\"\u001b[39m):\n\u001b[0;32m     16\u001b[0m             \u001b[38;5;28;01mbreak\u001b[39;00m\n",
      "Cell \u001b[1;32mIn[9], line 9\u001b[0m, in \u001b[0;36mplayer_position\u001b[1;34m(playerchoice, board, playername)\u001b[0m\n\u001b[0;32m      6\u001b[0m \u001b[38;5;28;01mif\u001b[39;00m player \u001b[38;5;129;01mnot\u001b[39;00m \u001b[38;5;129;01min\u001b[39;00m \u001b[38;5;28mrange\u001b[39m(\u001b[38;5;241m1\u001b[39m,\u001b[38;5;241m10\u001b[39m):\n\u001b[0;32m      7\u001b[0m     \u001b[38;5;28mprint\u001b[39m(\u001b[38;5;124m'\u001b[39m\u001b[38;5;124mSorry, you have entered wrong value. Choose from 1 to 9.\u001b[39m\u001b[38;5;124m'\u001b[39m)\n\u001b[1;32m----> 9\u001b[0m \u001b[38;5;28;01mif\u001b[39;00m \u001b[43mboard\u001b[49m\u001b[43m[\u001b[49m\u001b[43mplayer\u001b[49m\u001b[38;5;241;43m-\u001b[39;49m\u001b[38;5;241;43m1\u001b[39;49m\u001b[43m]\u001b[49m \u001b[38;5;241m!=\u001b[39m \u001b[38;5;124m\"\u001b[39m\u001b[38;5;124m \u001b[39m\u001b[38;5;124m\"\u001b[39m:\n\u001b[0;32m     10\u001b[0m     \u001b[38;5;28mprint\u001b[39m(\u001b[38;5;124m'\u001b[39m\u001b[38;5;124mSorry, the position is already taken.\u001b[39m\u001b[38;5;124m'\u001b[39m)\n\u001b[0;32m     11\u001b[0m     player \u001b[38;5;241m=\u001b[39m \u001b[38;5;124m'\u001b[39m\u001b[38;5;124mwrong\u001b[39m\u001b[38;5;124m'\u001b[39m\n",
      "\u001b[1;31mIndexError\u001b[0m: list index out of range"
     ]
    }
   ],
   "source": [
    "startgame()"
   ]
  },
  {
   "cell_type": "code",
   "execution_count": null,
   "id": "1aa4306f",
   "metadata": {},
   "outputs": [],
   "source": []
  }
 ],
 "metadata": {
  "kernelspec": {
   "display_name": "Python 3 (ipykernel)",
   "language": "python",
   "name": "python3"
  },
  "language_info": {
   "codemirror_mode": {
    "name": "ipython",
    "version": 3
   },
   "file_extension": ".py",
   "mimetype": "text/x-python",
   "name": "python",
   "nbconvert_exporter": "python",
   "pygments_lexer": "ipython3",
   "version": "3.10.9"
  }
 },
 "nbformat": 4,
 "nbformat_minor": 5
}
